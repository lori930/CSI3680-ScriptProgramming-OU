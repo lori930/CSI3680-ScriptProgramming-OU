{
  "nbformat": 4,
  "nbformat_minor": 0,
  "metadata": {
    "colab": {
      "provenance": []
    },
    "kernelspec": {
      "name": "python3",
      "display_name": "Python 3"
    },
    "language_info": {
      "name": "python"
    }
  },
  "cells": [
    {
      "cell_type": "markdown",
      "source": [
        "## Import Modules\n",
        "\n",
        "### 1. `sys` module\n",
        "Create a Python script that can perform basic arithmetic operations (addition, subtraction, multiplication, division) based on user input provided via **command-line arguments**. The user will **pass two numbers and an operator as arguments**."
      ],
      "metadata": {
        "id": "XlQj1-8nd1Eh"
      }
    },
    {
      "cell_type": "markdown",
      "source": [
        "- `sys.argv` is a **list** of command-line arguments.\n",
        "- The **first element** (`sys.argv[0]`) is always the script name.\n",
        "- The rest are the** arguments you pass** after it.\n",
        "\n",
        "Let's see an example of `sys.argv` so you know how to use it in a script."
      ],
      "metadata": {
        "id": "fyL6t13ijWc-"
      }
    },
    {
      "cell_type": "code",
      "source": [
        "%%bash\n",
        "cat << 'EOF' > echo_args.py\n",
        "import sys\n",
        "print(\"sys.argv =\", sys.argv)\n",
        "EOF"
      ],
      "metadata": {
        "id": "fNIqEg97i6PO"
      },
      "execution_count": null,
      "outputs": []
    },
    {
      "cell_type": "code",
      "source": [
        "!python echo_args.py hello world 123"
      ],
      "metadata": {
        "id": "Ktnm4iMdjSjb"
      },
      "execution_count": null,
      "outputs": []
    },
    {
      "cell_type": "code",
      "execution_count": null,
      "metadata": {
        "id": "9I3EivS1dgW9"
      },
      "outputs": [],
      "source": [
        "%%bash\n",
        "cat << 'EOF' > calculator.py\n",
        "import sys\n",
        "\n",
        "def simple_calculator():\n",
        "    # TODO: Check if enough arguments are provided (script name + 3 arguments)\n",
        "    if :\n",
        "        print(\"Usage: python calculator.py <number1> <operator> <number2>\")\n",
        "        sys.exit(1)  # Exit the script if the arguments are incorrect\n",
        "\n",
        "    # TODO: Extract command-line arguments and convert them to correct data types\n",
        "    num1 =\n",
        "    operator =\n",
        "    num2 =\n",
        "\n",
        "    # Perform the calculation based on the operator\n",
        "    if operator == '+':\n",
        "        result = num1 + num2\n",
        "    elif operator == '-':\n",
        "        result = num1 - num2\n",
        "    elif operator == 'x':\n",
        "        result = num1 * num2\n",
        "    elif operator == '/':\n",
        "        if num2 == 0:\n",
        "            print(\"Error: Division by zero is not allowed.\")\n",
        "            sys.exit(1)\n",
        "        result = num1 / num2\n",
        "    else:\n",
        "        print(f\"Unknown operator: {operator}\")\n",
        "        sys.exit(1)\n",
        "\n",
        "    # Output the result\n",
        "    print(f\"The result of {num1} {operator} {num2} = {result}\")\n",
        "\n",
        "if __name__ == \"__main__\":\n",
        "    simple_calculator()\n",
        "EOF\n"
      ]
    },
    {
      "cell_type": "code",
      "source": [
        "!python calculator.py 4 + 5\n",
        "!python calculator.py 10 / 2\n",
        "!python calculator.py 7 x 3\n",
        "!python calculator.py 1 +"
      ],
      "metadata": {
        "id": "hm_mNsHYe_94"
      },
      "execution_count": null,
      "outputs": []
    },
    {
      "cell_type": "markdown",
      "source": [
        "### 2. `os` module\n",
        "You are starting a new coding project for web development. The tool checks **if the projects folder exists** to store your project files. If not, it creates one so that you can start organizing your work immediately."
      ],
      "metadata": {
        "id": "UBSJYdM4e9x9"
      }
    },
    {
      "cell_type": "code",
      "source": [
        "import os\n",
        "# Path where all project directories will be stored\n",
        "path = './projects'\n",
        "# TODO: Check if the “projects” folder exists with os.path module\n",
        "if not :\n",
        "# TODO: If not, create one with os module\n",
        "\n",
        "  print(f\"The directory {path} was created.\")\n",
        "else:\n",
        "  print(f\"The directory {path} already exists.\")"
      ],
      "metadata": {
        "id": "xgIgIHQBeLdm"
      },
      "execution_count": null,
      "outputs": []
    },
    {
      "cell_type": "code",
      "source": [],
      "metadata": {
        "id": "Q_pIf-hzeZOS"
      },
      "execution_count": null,
      "outputs": []
    }
  ]
}