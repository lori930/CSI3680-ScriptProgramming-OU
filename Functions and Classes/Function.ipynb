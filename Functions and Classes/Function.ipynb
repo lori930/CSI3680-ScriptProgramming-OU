{
  "nbformat": 4,
  "nbformat_minor": 0,
  "metadata": {
    "colab": {
      "provenance": []
    },
    "kernelspec": {
      "name": "python3",
      "display_name": "Python 3"
    },
    "language_info": {
      "name": "python"
    }
  },
  "cells": [
    {
      "cell_type": "code",
      "source": [
        "def hello(name):\n",
        "  print(\"Hello! \" + name)\n",
        "  return"
      ],
      "metadata": {
        "id": "OYXZ7kEOF_G9"
      },
      "execution_count": null,
      "outputs": []
    },
    {
      "cell_type": "code",
      "source": [
        "hello(\"Lori\")\n",
        "hello(\"Aaron\")"
      ],
      "metadata": {
        "id": "n4nlyc-WGEyI"
      },
      "execution_count": null,
      "outputs": []
    },
    {
      "cell_type": "code",
      "source": [
        "for i in range(0, 6, 2):\n",
        "  print(i)"
      ],
      "metadata": {
        "id": "sENd_Lw9HaHS"
      },
      "execution_count": null,
      "outputs": []
    },
    {
      "cell_type": "code",
      "source": [
        "def greet(msg=\"Hello\", name=\"World\"):\n",
        "    print(msg, name)"
      ],
      "metadata": {
        "id": "BK8vk6ufH5RF"
      },
      "execution_count": null,
      "outputs": []
    },
    {
      "cell_type": "code",
      "source": [
        "def greet(name, msg=\"Hello\"):\n",
        "    print(msg, name)"
      ],
      "metadata": {
        "id": "bdUg1M9sIEQE"
      },
      "execution_count": null,
      "outputs": []
    },
    {
      "cell_type": "code",
      "execution_count": null,
      "metadata": {
        "id": "iY2lwPxyQxCA"
      },
      "outputs": [],
      "source": [
        "# Define the function to register a user and print their information\n",
        "def register_user(name, age, city, hobby=\"N/A\"):\n",
        "  print(f\"{name}, {age} years old from {city}, who enjoys {hobby}.\")"
      ]
    },
    {
      "cell_type": "code",
      "source": [
        "# TODO: Calling the function to print out “Aaron, 25 years old from New York, who enjoys N/A.”\n",
        "\n"
      ],
      "metadata": {
        "id": "8dVfGCJ0Q1wO"
      },
      "execution_count": null,
      "outputs": []
    },
    {
      "cell_type": "code",
      "source": [
        "# TODO: Calling the function to print out “Bella, 30 years old from London, who enjoys painting.”\n"
      ],
      "metadata": {
        "id": "AeeWKRgXRAFG"
      },
      "execution_count": null,
      "outputs": []
    },
    {
      "cell_type": "code",
      "source": [
        "def hello_1(name):\n",
        "  return \"Hello \" + name + \"!\""
      ],
      "metadata": {
        "id": "AEmHumxgRUDq"
      },
      "execution_count": null,
      "outputs": []
    },
    {
      "cell_type": "code",
      "source": [
        "def hello_2(name):\n",
        "  print(\"Hello \" + name + \"!\")"
      ],
      "metadata": {
        "id": "_krWaGw2LplR"
      },
      "execution_count": null,
      "outputs": []
    },
    {
      "cell_type": "code",
      "source": [
        "# print(hello_1(\"Aaron\"))\n",
        "# is equivalent to\n",
        "remark = hello_1(\"Aaron\")\n",
        "print(remark)"
      ],
      "metadata": {
        "id": "BGFfNLE5Lv43"
      },
      "execution_count": null,
      "outputs": []
    },
    {
      "cell_type": "code",
      "source": [
        "print(hello_2(\"Aaron\"))"
      ],
      "metadata": {
        "id": "fjQNtyY2L7li"
      },
      "execution_count": null,
      "outputs": []
    },
    {
      "cell_type": "code",
      "source": [
        "def sandwich():\n",
        "    bagel = 1\n",
        "    egg = 1\n",
        "    pastrami = 1\n",
        "    cheese = 1\n",
        "\n",
        "sandwich()\n",
        "print(bagel)"
      ],
      "metadata": {
        "id": "kA5_Mz-hRVcu"
      },
      "execution_count": null,
      "outputs": []
    },
    {
      "cell_type": "code",
      "source": [
        "def sandwich():\n",
        "    print(pastrami)\n",
        "\n",
        "pastrami = 1\n",
        "sandwich()"
      ],
      "metadata": {
        "id": "gTBpeGFpRW6j"
      },
      "execution_count": null,
      "outputs": []
    },
    {
      "cell_type": "code",
      "source": [
        "def sandwich():\n",
        "    bagel = 1\n",
        "    egg = 1\n",
        "    burger()\n",
        "    print(egg)\n",
        "def burger():\n",
        "    bacon = 1\n",
        "    egg = 2\n",
        "sandwich()"
      ],
      "metadata": {
        "id": "m-A6aGeaRZSj"
      },
      "execution_count": null,
      "outputs": []
    },
    {
      "cell_type": "code",
      "source": [
        "def sandwich():\n",
        "    egg = 'Egg in sandwich'\n",
        "    print(egg)\n",
        "    burger()\n",
        "    print(egg)\n",
        "def burger():\n",
        "    egg = 'Egg in burger'\n",
        "    print(egg)\n",
        "egg = 'Egg'\n",
        "sandwich()\n",
        "print(egg)"
      ],
      "metadata": {
        "id": "uce_uJTbRcl6"
      },
      "execution_count": null,
      "outputs": []
    },
    {
      "cell_type": "code",
      "source": [
        "def reciprocal(number):\n",
        "  try:\n",
        "    return 1/number\n",
        "  except ZeroDivisionError:\n",
        "    print(\"Invalid number.\")"
      ],
      "metadata": {
        "id": "X_xBtM7nRd1Z"
      },
      "execution_count": null,
      "outputs": []
    },
    {
      "cell_type": "code",
      "source": [
        "print(reciprocal(1))\n",
        "print(reciprocal(0))\n",
        "print(reciprocal(10))"
      ],
      "metadata": {
        "id": "vi-13NvwPATi"
      },
      "execution_count": null,
      "outputs": []
    },
    {
      "cell_type": "code",
      "source": [
        "def factorial(n):\n",
        "  #base case\n",
        "  if n == 0:\n",
        "    return 1\n",
        "\n",
        "  else:\n",
        "    print(f\"Calculating factorial({n})\")\n",
        "    return n * factorial(n-1)"
      ],
      "metadata": {
        "id": "7K3NmyvZPDeX"
      },
      "execution_count": null,
      "outputs": []
    },
    {
      "cell_type": "code",
      "source": [
        "factorial(5)"
      ],
      "metadata": {
        "id": "PhmIAZBaRLSk"
      },
      "execution_count": null,
      "outputs": []
    },
    {
      "cell_type": "markdown",
      "source": [
        "### After-class practice\n",
        "Using Euclid's algorithm, the GCD of two numbers can be calculated recursively.\n",
        "\n",
        "Recursive definition:\n",
        "```\n",
        "GCD(a, 0) = a\n",
        "GCD(a, b) = GCD(b, a%b)\n",
        "```\n"
      ],
      "metadata": {
        "id": "bfd6saES6GK3"
      }
    },
    {
      "cell_type": "code",
      "source": [
        "def gcd(a, b):\n",
        "    # TODO: Base case: b = 0\n",
        "\n",
        "    # TODO: recursive case: gcd(a, b) = gcd(b, a%b)\n",
        ""
      ],
      "metadata": {
        "id": "6KFKracYRPK7"
      },
      "execution_count": null,
      "outputs": []
    },
    {
      "cell_type": "code",
      "source": [
        "print(gcd(48,18)) # Output 6"
      ],
      "metadata": {
        "id": "zZc-XO8y6YDX"
      },
      "execution_count": null,
      "outputs": []
    },
    {
      "cell_type": "code",
      "source": [],
      "metadata": {
        "id": "0rWge1uY6i7I"
      },
      "execution_count": null,
      "outputs": []
    }
  ]
}