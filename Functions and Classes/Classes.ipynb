{
  "nbformat": 4,
  "nbformat_minor": 0,
  "metadata": {
    "colab": {
      "provenance": []
    },
    "kernelspec": {
      "name": "python3",
      "display_name": "Python 3"
    },
    "language_info": {
      "name": "python"
    }
  },
  "cells": [
    {
      "cell_type": "markdown",
      "source": [
        "# **OU CSI 3680 Script Programming: Class**"
      ],
      "metadata": {
        "id": "r_RHIrbq_Ege"
      }
    },
    {
      "cell_type": "markdown",
      "source": [
        "### 1. From Function to Class\n",
        "We start with a plain function `area_of_circle()`:"
      ],
      "metadata": {
        "id": "te97j77sCV8a"
      }
    },
    {
      "cell_type": "code",
      "execution_count": null,
      "metadata": {
        "id": "79-U_byh-_oH"
      },
      "outputs": [],
      "source": [
        "def area_of_circle(r):\n",
        "  return 3.14 * r ** 2"
      ]
    },
    {
      "cell_type": "markdown",
      "source": [
        "Now, let's wrap it into a class `Circle` that\n",
        "- has an **attribute** `r` (radius)\n",
        "- has a **method** `area()` that calculates the area of the circle"
      ],
      "metadata": {
        "id": "GVyERIIWCezj"
      }
    },
    {
      "cell_type": "code",
      "source": [
        "class Circle:\n",
        "  def __init__(self, r):\n",
        "    # TODO: complete the constructor\n",
        "    pass\n",
        "\n",
        "  def area(self):\n",
        "    # TODO: calculate the area\n",
        "    pass\n",
        "\n",
        "  # TODO: add a method scale(factor)\n",
        "  # that multiplies the radius by factor"
      ],
      "metadata": {
        "id": "FTomt751Cdz9"
      },
      "execution_count": null,
      "outputs": []
    },
    {
      "cell_type": "markdown",
      "source": [
        "**Your tasks:**\n",
        "1. Complete the constructor and `area()` method\n",
        "2. Add the `scale(factor)` method\n",
        "3. Create an object and test all methods."
      ],
      "metadata": {
        "id": "mYNdXzJSC37C"
      }
    },
    {
      "cell_type": "markdown",
      "source": [
        "### 2. Modeling a Simple Real-World System\n",
        "Let's model a bank account using a Pythong class.\n",
        "\n",
        "A bank account has:\n",
        "- Attribute (data): the owner's name and the current balance\n",
        "- Methods (behavior): actions such as depositing or withdrawing money\n",
        "\n",
        "Your task:\n",
        "1. Create a class `BankAccount`:\n",
        "    - The constructor `__init__(self, owner, balance=0)` should store the account owner and starting balance\n",
        "    - Define methods:\n",
        "      - `deposit(self, amount)`: add money to the balance\n",
        "      - `withdraw(self, amount)`: subtract money only if there's enough balance\n",
        "2. Add a method `display(self)` that prints:\n",
        "```\n",
        "Owner: <owner>, Balance: $<balance>\n",
        "```\n",
        "3. Create and test your class:\n",
        "```\n",
        "acc1 = BankAccount(\"Lori\", 100)\n",
        "acc1.display()\n",
        "acc1.deposit(50)\n",
        "acc1.withdraw(30)\n",
        "acc1.withdraw(200)   # try overdraft\n",
        "acc1.display()\n",
        "```\n",
        "\n",
        "4. Challenge yourself\n",
        "- Add a `transfer(self, other_account, amount)` method to move money between two accounts."
      ],
      "metadata": {
        "id": "xTv_8EXsEUbz"
      }
    },
    {
      "cell_type": "code",
      "source": [],
      "metadata": {
        "id": "ekZf8xsYC9-g"
      },
      "execution_count": null,
      "outputs": []
    }
  ]
}