{
  "nbformat": 4,
  "nbformat_minor": 0,
  "metadata": {
    "colab": {
      "provenance": []
    },
    "kernelspec": {
      "name": "python3",
      "display_name": "Python 3"
    },
    "language_info": {
      "name": "python"
    }
  },
  "cells": [
    {
      "cell_type": "markdown",
      "source": [
        "In Google Colab, you can run Bash commands directly by prefixing them with an exclamation mark (`!`) in a code cell. Example:\n",
        "```\n",
        "!pwd\n",
        "!ls -l\n",
        "!echo \"Hello from Bash\"\n",
        "```\n",
        "For multi-line shell scripts, you can use `%%bash` at the start of the cell:\n",
        "```\n",
        "%%bash\n",
        "echo \"Welcome to CSI3680\"\n",
        "echo \"We do script programming here\"\n",
        "```"
      ],
      "metadata": {
        "id": "B9rPX6_83FQc"
      }
    },
    {
      "cell_type": "markdown",
      "source": [
        "# Mini System Reporter\n",
        "## Task\n",
        "Write a shell script `sysreport.sh` that:\n",
        "1. Prints a greeting with the current username and date.\n",
        "2. Shows the number of command-line arguments given.\n",
        "3. Prints the arguments one by one, and for each argument creates an empty file named after that argument in the current directory.\n",
        "4. Saves the output of `ls` of the current directory into a file called `listing.txt`.\n",
        "5. Appends the disk usage (`df -h .`) to the same file.\n",
        "6. Finally, prints the total number of lines in `listing.txt`.\n",
        "\n",
        "## Example\n",
        "```\n",
        "./systemreport.sh mango fig\n",
        "```\n",
        "Output (screen):\n",
        "```\n",
        "Hello, lori! Today is Mon Sep 8 14:00:01 EDT 2025\n",
        "You supplied 2 arguments:\n",
        "mango\n",
        "fig\n",
        "Directory contents have been saved to listing.txt\n",
        "listing.txt has 42 lines\n",
        "\n",
        "```\n",
        "And `listing.txt` will contain:\n",
        "```\n",
        "[ls output here...]\n",
        "[followed by df -h output...]\n",
        "```\n",
        "\n",
        "### Note\n",
        "- If you want to run `systemreport.sh` on Google Colab, choose the `Files` icon from the left to upload your script."
      ],
      "metadata": {
        "id": "_nyXxarl1oYu"
      }
    },
    {
      "cell_type": "code",
      "execution_count": null,
      "metadata": {
        "id": "DA824PB_1gz_"
      },
      "outputs": [],
      "source": []
    }
  ]
}