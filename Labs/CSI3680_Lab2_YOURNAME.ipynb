{
  "nbformat": 4,
  "nbformat_minor": 0,
  "metadata": {
    "colab": {
      "provenance": []
    },
    "kernelspec": {
      "name": "python3",
      "display_name": "Python 3"
    },
    "language_info": {
      "name": "python"
    }
  },
  "cells": [
    {
      "cell_type": "markdown",
      "source": [
        "## Lab 2: Python Basics, Flow Control, Functions, and Import\n",
        "\n",
        "### Requirements:\n",
        "\n",
        "1. You are expected to complete **2 problems during the 107-minute lab session**.\n",
        "\n",
        "2. **Before you leave**, please ask me to review your code — I need to record your progress.\n",
        "\n",
        "3. To complete and submit this lab, you must choose **one** of the following options:\n",
        "   - **Option 1:** Copy this notebook to your Google Drive and edit it there.  \n",
        "     - File → Save a copy in Drive  \n",
        "     - Make your edits, then go to File → Download → `.ipynb`.\n",
        "   - **Option 2:** Download this notebook to your local computer, open it in Colab from your file, and edit it locally with your favorite IDE.  \n",
        "     - File → Download → `.ipynb`.\n",
        "4. Before submission, rename the file. Replace `YOURNAME` with your full name (e.g., `CSI3680-Lab2-LoriXu.ipynb`)\n",
        "5. Submit the **renamed and completed** `.ipynb` file to Moodle.\n",
        "  - Make sure you submit your final edited `.ipynb` file — not a blank copy.\n",
        "\n",
        "\n",
        "### ⚠️ A Note on AI Tools\n",
        "\n",
        "While I cannot control whether you use AI tools, **you are fully responsible for the code you submit**. If you choose to use any assistance, make sure you thoroughly understand what your script is doing. You may be asked to explain your work during or after the lab.\n"
      ],
      "metadata": {
        "id": "clzbwOcyHYUr"
      }
    },
    {
      "cell_type": "markdown",
      "source": [
        "### A Magic Command `%%writefile`\n",
        "Before we start, let's introduce a magic command that allows us to write a Python script to disk and then run it as if it were a standalone file.\n",
        "\n",
        "Previously, we use a *Here-Document* to create Bash scripts. Today, let's learn another way: `%%writefile` magic command.\n",
        "\n",
        "```\n",
        "%%writefile demo.py\n",
        "# Example script content\n",
        "x = int(input(\"Enter a number: \"))\n",
        "print(\"Square:\", x ** 2)\n",
        "\n",
        "```\n",
        "Then we can run it with\n",
        "```\n",
        "!python demo.py\n",
        "```"
      ],
      "metadata": {
        "id": "i5XESBnroc8L"
      }
    },
    {
      "cell_type": "code",
      "source": [
        "%%writefile demo.py\n",
        "# Example script content\n",
        "x = int(input(\"Enter a number: \"))\n",
        "print(\"Square:\", x ** 2)\n"
      ],
      "metadata": {
        "id": "PU0NJaIYo6KE"
      },
      "execution_count": null,
      "outputs": []
    },
    {
      "cell_type": "markdown",
      "source": [
        "Now if you check \"Files\" from the navigation bar, you should find `demo.py` is there.\n",
        "\n",
        "Now we can run it:"
      ],
      "metadata": {
        "id": "ugAmHB4Mo-sz"
      }
    },
    {
      "cell_type": "code",
      "source": [
        "!python demo.py"
      ],
      "metadata": {
        "id": "hr7CEClupGZa"
      },
      "execution_count": null,
      "outputs": []
    },
    {
      "cell_type": "markdown",
      "source": [
        "### Script 1\n",
        "We are going to do some simple math operations.\n",
        "\n",
        "Write a Python program that asks the user for their **amount of money**, then reports:\n",
        "  - How many Nintendo Switches the person can afford, and\n",
        "  - How much **more money** they would need to afford one additional Switch.\n",
        "\n",
        "Assume the market sale price of one single Switch is $299.99, tax-free.\n",
        "\n",
        "Your Python script should run like this:\n",
        "```\n",
        "$ python Script1.py\n",
        "How much amount of money do you have? 800\n",
        "With $800.00, you can buy 2 Nintendo Switch(es). You can afford one more Switch if you have $99.98 more.\n",
        "```\n",
        "\n",
        "**For Script 1, you need to do the following:**\n",
        "1. Create a variable to store the price of a Ninetendo Switch.\n",
        "2. Ask for the user's input using `input()`.\n",
        "3. Check the validity of the input.\n",
        "  - A valid input can be converted to a **number** (`float`).\n",
        "  - If not, **catch the error, print a meaningful message and quit**.\n",
        "4. If the input is valid, **round it to two decimal places**. To round a number, use the built-in function `round(number, ndigits=None)`. [More details are here](https://docs.python.org/3/library/functions.html#round).\n",
        "5. Use **division** (`//`) and **modulus** (`%`) operators to compute:\n",
        "  - the number of Switches one can afford, and\n",
        "  - how much more money is needed for one more.\n",
        "6. **Negative amount are allowed**, but the number of Switches should never be negative.\n",
        "7. Round the \"money needed\" value to **two decimal places**.\n",
        "8. Print the result in a meaningful, formatted message as shown above.\n",
        ""
      ],
      "metadata": {
        "id": "tB4furnsd5JT"
      }
    },
    {
      "cell_type": "code",
      "execution_count": null,
      "metadata": {
        "id": "cks9iHOLHLTa"
      },
      "outputs": [],
      "source": [
        "%%writefile Script1.py\n",
        "# Script1.py — Calculate how many Nintendo Switches you can afford\n",
        "\n",
        "# TODO: create a variable for the price of a Nintendo Switch\n",
        "price =\n",
        "\n",
        "# TODO: ask for user's input with prompt\n",
        "amount_str =\n",
        "\n",
        "try:\n",
        "    # TODO: convert to float and round to two decimals\n",
        "    amount =\n",
        "    amount =\n",
        "except ValueError:\n",
        "    print(\"Error: Please enter a valid numeric amount.\")\n",
        "    quit()\n",
        "\n",
        "# TODO: calculate how many Switches can be bought and\n",
        "#       how much more is needed for one more Switch\n",
        "# Hint: use // for integer division, and % or - to find the remainder\n",
        "# Hint: handle negative money case (set count to 0 if negative) separately\n",
        "if amount < 0:\n",
        "  count =\n",
        "  remaining =\n",
        "  more_needed =\n",
        "\n",
        "else:\n",
        "  count =\n",
        "  remaining =\n",
        "  more_needed =\n",
        "\n",
        "# print the result in a meaningful message\n",
        "print(f\"With ${amount}, you can buy {count} Nintendo Switch(es); \"\n",
        "      f\"you can afford one more Switch if you have ${more_needed} more.\")\n"
      ]
    },
    {
      "cell_type": "code",
      "source": [
        "# Test case\n",
        "!printf \"800\\n\" | python Script1.py\n",
        "!printf \"150\\n\" | python Script1.py\n",
        "!printf \"299.99\\n\" | python Script1.py\n",
        "!printf \"-200\\n\" | python Script1.py\n",
        "!printf \"5000\\n\" | python Script1.py\n",
        "!printf \"abc\\n\" | python Script1.py"
      ],
      "metadata": {
        "id": "ve5lR4azgck3"
      },
      "execution_count": null,
      "outputs": []
    },
    {
      "cell_type": "markdown",
      "source": [
        "### Script 2\n",
        "This Python program computes the `i`-th item in a Fibonacci sequence. `i` is a positive integer that provided by the user. The Fibonacci numbers are defined by the recurrence relation:\n",
        "\n",
        "\\begin{eqnarray*}\n",
        "&F(0) = 0,\\\\\n",
        "&F(1) = 1,\\\\\n",
        "&F(n) = F(n-1) + F(n-2),\\ n > 1\n",
        "\\end{eqnarray*}\n",
        "The first 20 Fibonacci numbers are:\n",
        "\\begin{eqnarray*}\n",
        "&0,\\ 1,\\ 1,\\ 2,\\ 3,\\ 5,\\ 8,\\ 13,\\ 21,\\ 34,\\ 55,\\ 89,\\ 144,\\ 233,\\ 377,\\ 610,\\ 987,\\ 1597,\\ 2584,\\ 4181\n",
        "\\end{eqnarray*}\n",
        "\n",
        "Your Python script should run like this:\n",
        "```\n",
        "$ python Script2.py\n",
        "Give me a non-negative integer: 16\n",
        "The F(16) is 987.\n",
        "```\n",
        "\n",
        "**For Script 2, you need to do the following:**\n",
        "1. Define a `fib(i)` function, to calculate the `F(i)` in a Fibonacci sequence.\n",
        "  - The function must be recursive.\n",
        "  - It should include base cases:\n",
        "    ```\n",
        "    if i == 0: return 0\n",
        "    if i == 1: return 1\n",
        "    ```\n",
        "  - For all other values, return the sum of the previous two terms.\n",
        "2.  Ask for the user's input (`i`) using `input()`.\n",
        "3. Check the validity of the input:\n",
        "  - Try converting it to an **integer**.\n",
        "  - If conversion fails, **catch the error, print a meaningful message and quit**.\n",
        "4. Check if the integer is **non-negative**.\n",
        "  - If it's negative, print a message and quit.\n",
        "5. **Call the defined function `fib(i)`** to compute the result.\n",
        "6. Print the output as the format shown above."
      ],
      "metadata": {
        "id": "FIwBQ8CgfL65"
      }
    },
    {
      "cell_type": "code",
      "source": [
        "%%writefile Script2.py\n",
        "# Script2.py — Compute the i-th Fibonacci number using recursion\n",
        "\n",
        "# TODO: define the recursive fib() function\n",
        "def fib(i):\n",
        "    \"\"\"Return the i-th Fibonacci number.\"\"\"\n",
        "    # Base cases\n",
        "    # TODO: handle F(0) and F(1)\n",
        "\n",
        "    # Recursive case\n",
        "    # TODO: return fib(i-1) + fib(i-2)\n",
        "\n",
        "\n",
        "# ---- main program ----\n",
        "if __name__ == \"__main__\":\n",
        "    # ask for user input\n",
        "    n_str = input(\"Give me a non-negative integer: \")\n",
        "\n",
        "    try:\n",
        "        # TODO: convert to int\n",
        "        n =\n",
        "    except ValueError:\n",
        "        print(\"Error: Please enter a valid integer.\")\n",
        "        quit()\n",
        "\n",
        "    # TODO: check for negative input\n",
        "    if :\n",
        "      pass\n",
        "\n",
        "    # TODO: call fib() and print the result\n",
        "    result =\n",
        "    print(f\"The F({n}) is {result}.\")\n"
      ],
      "metadata": {
        "id": "sgu9U1mEgmpk"
      },
      "execution_count": null,
      "outputs": []
    },
    {
      "cell_type": "code",
      "source": [
        "# Test case\n",
        "!printf \"0\\n\" | python Script2.py\n",
        "!printf \"1\\n\" | python Script2.py\n",
        "!printf \"5\\n\" | python Script2.py\n",
        "!printf \"10\\n\" | python Script2.py\n",
        "!printf \"16\\n\" | python Script2.py\n",
        "!echo \"-3\" | python Script2.py\n",
        "!echo \"abc\" | python Script2.py"
      ],
      "metadata": {
        "id": "-zl0D-1igm98"
      },
      "execution_count": null,
      "outputs": []
    },
    {
      "cell_type": "markdown",
      "source": [
        "### Script 3\n",
        "We are going to use **lambda functions** to build a tiny calculator.\n",
        "\n",
        "Your Python script should run like this:\n",
        "```\n",
        "$ $ python Script3.py 12 3 DIV\n",
        "Result: 4.0\n",
        "\n",
        "```\n",
        "\n",
        "**For Script 3, you need to do the following:**\n",
        "1. Import the `sys` module to access command-line arguments.\n",
        "2. Your program should expect exactly three arguments:\n",
        "  - The first number (`a`)\n",
        "  - The second number (`b`)\n",
        "  - The operation (`ADD`, `SUB`, `MUL`, `DIV`, `POW`, `MAX`, `MIN`)\n",
        "3. If the number of arguments is not 3, print a **usage message** and quit. Example message:\n",
        "  ```\n",
        "  Usage: python Script3.py <num1> <num2> <operation>\n",
        "\n",
        "  ```\n",
        "4. Define the following lambda functions at the top:\n",
        "```\n",
        "add = lambda a, b: <Expression>\n",
        "sub = lambda a, b: <Expression>\n",
        "mul = lambda a, b: <Expression>\n",
        "div = lambda a, b: <Expression>\n",
        "pow = lambda a, b: <Expression>\n",
        "mx = lambda a, b: <Expression> # use mx to avoid conflict with built-in max()\n",
        "mn = lambda a, b: <Expression> # use mn to avoid conflict with built-in min()\n",
        "```\n",
        "5. Write a function `apply_op(a, b, op_fn)` that calls the given function (`op_fn`) and **returns the result**.\n",
        "  - If the operation is division and `b==0`, catch the `ZeroDivisionError`, print a error message, and quit.\n",
        "6. Convert the first two command-line arguments to **float**.\n",
        "  - If they cannot be converted, catch the `ValueError`, print a meaningful message, and quit.\n",
        "7. Use a `match` statement to select which lambda function to pass into `apply_op`.\n",
        "  - If the operation name is invalid, print a error message and quit.  \n",
        "7. Print the result in the format shown above.\n"
      ],
      "metadata": {
        "id": "6NmMKkewgq9T"
      }
    },
    {
      "cell_type": "code",
      "source": [
        "%%writefile Script3.py\n",
        "# Script3.py  —  A simple calculator using lambda functions\n",
        "# TODO: import the sys module to access command-line arguments.\n",
        "\n",
        "# TODO: Define lambda functions\n",
        "add = lambda a, b:\n",
        "sub = lambda a, b:\n",
        "mul = lambda a, b:\n",
        "div = lambda a, b:\n",
        "pow  = lambda a, b:\n",
        "mx  = lambda a, b:  # use mx to avoid conflict with built-in max()\n",
        "mn  = lambda a, b:  # use mn to avoid conflict with built-in min()\n",
        "\n",
        "def apply_op(a, b, op_fn):\n",
        "    \"\"\"Apply the chosen operation to a and b.\"\"\"\n",
        "    # TODO: catch ZeroDivisionError error\n",
        "    return op_fn(a, b) # wrap this statement with try ... except\n",
        "\n",
        "\n",
        "# ---- main program ----\n",
        "if __name__ == \"__main__\":\n",
        "  # TODO: Expect exactly 3 arguments: num1 num2 operation\n",
        "  if :\n",
        "    print(\"Usage: python Script3.py <num1> <num2> <operation>\")\n",
        "    quit()\n",
        "\n",
        "  # TODO: Convert the first two command-line arguments to float.\n",
        "  # Hint: wrap the statements below with try ... except\n",
        "  a =\n",
        "  b =\n",
        "  # TODO: If they cannot be converted, catch the ValueError, print a meaningful message, and quit.\n",
        "  print(\"Error: Please enter numeric values only.\")\n",
        "  quit()\n",
        "\n",
        "  # TODO: Use match to choose which lambda to pass into apply_op.\n",
        "\n",
        "\n",
        "  print(f\"Result: {result}\")\n"
      ],
      "metadata": {
        "id": "r5tvDzEPmPG-"
      },
      "execution_count": null,
      "outputs": []
    },
    {
      "cell_type": "code",
      "source": [
        "# Test case\n",
        "!python Script3.py 12 3 DIV\n",
        "!python Script3.py 5 2 POW\n",
        "!python Script3.py 7 10 MAX\n",
        "!python Script3.py 8 0 DIV\n",
        "!python Script3.py 8 two ADD\n",
        "!python Script3.py"
      ],
      "metadata": {
        "id": "XvUOVMjvmPgJ"
      },
      "execution_count": null,
      "outputs": []
    },
    {
      "cell_type": "markdown",
      "source": [
        "### Script 4\n",
        "We are going to create a simple **utility module** for temperature convertion and then **import it* into another script.\n",
        "\n",
        "#### Step 1: Create a module `converter_utils.py`\n",
        "This file should contain two functions:\n",
        "```\n",
        "def c_to_f(c):\n",
        "    \"\"\"Convert Celsius to Fahrenheit\"\"\"\n",
        "    return (c * 9/5) + 32\n",
        "\n",
        "def f_to_c(f):\n",
        "    \"\"\"Convert Fahrenheit to Celsius\"\"\"\n",
        "    return (f - 32) * 5/9\n",
        "```\n",
        "Each function should:\n",
        "  - Take one number as input\n",
        "  - Return the converted value as a float\n",
        "\n",
        "### Step 2: Create another script Script4.py\n",
        "Your script will read from command-line arguments. It should run like this:\n",
        "```\n",
        "$ python Script4.py C2F 37\n",
        "37.0°C = 98.6°F\n",
        "$ python Script4.py F2C 98.6\n",
        "98.6°F = 37.0°C\n",
        "```\n",
        "For Script 4, you need to do the following:\n",
        "1. Import the conversion functions from the `converter_utils` module\n",
        "2. Import the `sys` module to read command-line arguments.\n",
        "3. The program expects **two arguments** after the script name:\n",
        "  - Conversion type (`C2F` or `F2C`)\n",
        "  - Temperature value (a number)\n",
        "4. If the number of arguments is incorrect, print this usage message and quit:\n",
        "  ```\n",
        "  Usage: python Script4.py <C2F|F2C> <temperature>\n",
        "\n",
        "  ```\n",
        "5. Validate both inputs:\n",
        "  - The conversion type must be `C2F` or `F2C`.\n",
        "  - The temperature must be numeric (convertible to `float`).\n",
        "6. Call the correct conversion function (`c_to_f` or `f_to_c`).\n",
        "7. Print the result, rounded to one dedimal place, following the format above."
      ],
      "metadata": {
        "id": "c-4FY6RamR0b"
      }
    },
    {
      "cell_type": "code",
      "source": [
        "%%writefile converter_utils.py\n",
        "def c_to_f(c):\n",
        "    \"\"\"TODO: Convert Celsius to Fahrenheit.\"\"\"\n",
        "    pass # replace this line with your code\n",
        "\n",
        "def f_to_c(f):\n",
        "    \"\"\"TODO: Convert Fahrenheit to Celsius.\"\"\"\n",
        "    pass # replace this line with your code\n"
      ],
      "metadata": {
        "id": "751L214q13kD"
      },
      "execution_count": null,
      "outputs": []
    },
    {
      "cell_type": "code",
      "source": [
        "%%writefile Script4.py\n",
        "# Script4.py — Convert temperature values using imported functions\n",
        "\n",
        "# TODO: import the required module(s)\n",
        "import\n",
        "\n",
        "if __name__ == \"__main__\":\n",
        "    # TODO: Expect exactly two arguments: conversion type and value\n",
        "\n",
        "    # TODO: If the option is not C2F or F2C, print an error and quit.\n",
        "\n",
        "    # TODO: If the temperature input cannot be converted to float (ValueError),\n",
        "    #       catch the error, print a message, and quit.\n",
        "\n",
        "    # TODO: Call the correct function from converter_utils\n",
        "    # Example: if choice is C2F, call c_to_f(temp); if F2C, call f_to_c(temp)\n",
        "\n",
        "    # Print the result rounded to one decimal place, following the example format\n",
        "    # Example output: 37.0°C = 98.6°F\n",
        "    print(f\"{f:.1f}°F = {c:.1f}°C\")\n"
      ],
      "metadata": {
        "id": "SB-Ov-hSnLoe"
      },
      "execution_count": null,
      "outputs": []
    },
    {
      "cell_type": "code",
      "source": [
        "# Test case\n",
        "!python Script4.py C2F 37\n",
        "!python Script4.py F2C 100\n",
        "!python Script4.py WRONG 10\n",
        "!python Script4.py F2C abc\n",
        "!python Script4.py"
      ],
      "metadata": {
        "id": "_Vx76lgHnMBZ"
      },
      "execution_count": null,
      "outputs": []
    }
  ]
}