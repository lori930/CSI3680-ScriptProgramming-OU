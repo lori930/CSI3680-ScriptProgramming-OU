{
  "nbformat": 4,
  "nbformat_minor": 0,
  "metadata": {
    "colab": {
      "provenance": []
    },
    "kernelspec": {
      "name": "python3",
      "display_name": "Python 3"
    },
    "language_info": {
      "name": "python"
    }
  },
  "cells": [
    {
      "cell_type": "markdown",
      "source": [
        "## Lab 1: Bash Scripting for Automation\n",
        "\n",
        "### Requirements:\n",
        "\n",
        "1. You are expected to complete **2 problems during the 107-minute lab session**.\n",
        "\n",
        "2. **Before you leave**, please ask me to review your code — I need to record your progress.\n",
        "\n",
        "3. To complete and submit this lab, you must choose **one** of the following options:\n",
        "   - **Option 1:** Copy this notebook to your Google Drive and edit it there.  \n",
        "     - File → Save a copy in Drive  \n",
        "     - Make your edits, then go to File → Download → `.ipynb`.\n",
        "   - **Option 2:** Download this notebook to your local computer, open it in Colab from your file, and edit it locally with your favorite IDE.  \n",
        "     - File → Download → `.ipynb`.\n",
        "4. Before submission, rename the file. Replace `YOURNAME` with your full name (e.g., `CSI3680-Lab1-LoriXu.ipynb`)\n",
        "5. Submit the **renamed and completed** `.ipynb` file to Moodle.\n",
        "  - Make sure you submit your final edited `.ipynb` file — not a blank copy.\n",
        "\n",
        "\n",
        "### ⚠️ A Note on AI Tools\n",
        "\n",
        "While I cannot control whether you use AI tools, **you are fully responsible for the code you submit**. If you choose to use any assistance, make sure you thoroughly understand what your script is doing. You may be asked to explain your work during or after the lab.\n"
      ],
      "metadata": {
        "id": "bk5Nt0F4-KD6"
      }
    },
    {
      "cell_type": "markdown",
      "source": [
        "### Before We Start...\n",
        "Let me quickly introduce a trick that will make your life (and mine) much easier when working in Google Colab/Jupyter Notebook.\n",
        "\n",
        "Since you've already learned about **Here Documents**, we can use them to **create and run shell scripts directly inside Colab**, without manually uploading files to the `/content` directory.\n",
        "\n",
        "Here's how you can create a script called `demo.sh`, write code into it, and run it — all in one cell:\n",
        "\n",
        "```bash\n",
        "%%bash\n",
        "cat << 'BASH' > demo.sh\n",
        "#!/bin/bash\n",
        "echo \"Hello from demo.sh\"\n",
        "# Add your script logic here\n",
        "BASH\n",
        "\n",
        "chmod +x demo.sh\n",
        "./demo.sh\n",
        "```\n",
        "\n",
        "The quotes around `'BASH'` prevent variable expansion — always include them!\n",
        "\n",
        "You can change `demo.sh` to any filename you want (e.g., `user_summary.sh`, `backup.sh`)."
      ],
      "metadata": {
        "id": "bQZZe6xnDoWx"
      }
    },
    {
      "cell_type": "markdown",
      "source": [
        "### Problem 1: User Summary Generator\n",
        "\n",
        "You are asked to generate a custom summary of system users using a given `passwd.fake` file.\n",
        "\n",
        "**Requirements**\n",
        "\n",
        "write a script `user_summary.sh` that:\n",
        "1. Reads from a fake password file called `passwd.fake`, which is formatted like `/etc/passwd` (colon-separated).\n",
        "2. For each line, print:\n",
        "  - The username (first field)\n",
        "  - The UID (third field)\n",
        "  - Label as:\n",
        "    - \"Regular user\" if UID >= 1000\n",
        "    - \"System user\" if UID < 1000\n",
        "3. At the end, print how many regular users there are.\n",
        "\n",
        "Use `awk` for field processing."
      ],
      "metadata": {
        "id": "N9Ch32xrAPeW"
      }
    },
    {
      "cell_type": "markdown",
      "source": [
        "**Expected Output Example for Problem 1**\n",
        "\n",
        "When your script is working correctly, the output should look like this:\n",
        "```\n",
        "root (UID=0) is a system user\n",
        "user1 (UID=1000) is a regular user\n",
        "user2 (UID=1001) is a regular user\n",
        "nobody (UID=65534) is a regular user\n",
        "Total regular users:  3\n",
        "```\n",
        "\n",
        "Make sure your script prints **exactly this format**, as I may check for exact wording and spacing.\n"
      ],
      "metadata": {
        "id": "ELa2bRUlMwXM"
      }
    },
    {
      "cell_type": "markdown",
      "source": [
        "First thing first, set up for fake data:"
      ],
      "metadata": {
        "id": "jDoTuvuA_Y4X"
      }
    },
    {
      "cell_type": "code",
      "source": [
        "# Simulate passwd.fake for Problem 1\n",
        "%%bash\n",
        "cat << 'EOF' > passwd.fake\n",
        "root:x:0:0:root:/root:/bin/bash\n",
        "user1:x:1000:1000:User One:/home/user1:/bin/bash\n",
        "user2:x:1001:1001:User Two:/home/user2:/bin/zsh\n",
        "nobody:x:65534:65534:nobody:/nonexistent:/usr/sbin/nologin\n",
        "EOF"
      ],
      "metadata": {
        "id": "HwyLjUN1_qxZ"
      },
      "execution_count": null,
      "outputs": []
    },
    {
      "cell_type": "markdown",
      "source": [
        "Now with the faked `/etc/passwd.fake`, use `awk` to process each line of `passwd.fake`."
      ],
      "metadata": {
        "id": "wzkcBiqoDAwO"
      }
    },
    {
      "cell_type": "code",
      "source": [
        "%%bash\n",
        "cat << 'BASH' > user_summary.sh\n",
        "#!/bin/bash\n",
        "# This script summarizes users from a passwd-like file using awk.\n",
        "awk -F: '\n",
        "{\n",
        "  # TODO: Print the username and UID\n",
        "  # Example: alice (UID=1000)\n",
        "\n",
        "\n",
        "  # TODO: Check if UID >= 1000\n",
        "  # If so, print \"is a regular user\" and count it\n",
        "  # Else, print \"is a system user\"\n",
        "}\n",
        "END {\n",
        "  # TODO: Print total number of regular users\n",
        "}\n",
        "' passwd.fake\n",
        "BASH\n",
        "\n",
        "chmod +x user_summary.sh\n",
        "./user_summary.sh"
      ],
      "metadata": {
        "id": "5smZHogiHUIa"
      },
      "execution_count": null,
      "outputs": []
    },
    {
      "cell_type": "markdown",
      "source": [
        "### Problem 2: Disk Report & Backup Automation\n",
        "\n",
        "Write a script called `disk_backup.sh` that does the following:\n",
        "1. Use the `df -h .` command to check disk usage of the current directory\n",
        "  - Save the output to a file called `disk_report.txt`\n",
        "  - Add a line to the file that shows the current date and time\n",
        "2. Create a compressed backup of the folder `mydir` into a file called `backup.tar.gz`.\n",
        "3. Print:\n",
        "  - The number of files that were backed up\n",
        "  - The total size of the backup file\n"
      ],
      "metadata": {
        "id": "pcamWBiUOXsT"
      }
    },
    {
      "cell_type": "markdown",
      "source": [
        "Again, we need to fake some data"
      ],
      "metadata": {
        "id": "feR84FRgOkOh"
      }
    },
    {
      "cell_type": "code",
      "source": [
        "# Create dummy files for backup testing\n",
        "!mkdir -p mydir && cd mydir && touch file{1..5}.txt && echo \"hello world\" > file1.txt && cd .."
      ],
      "metadata": {
        "id": "VDrU3N2iIl3s"
      },
      "execution_count": null,
      "outputs": []
    },
    {
      "cell_type": "code",
      "source": [
        "%%bash\n",
        "\n",
        "cat << 'BASH' > disk_backup.sh\n",
        "#!/bin/bash\n",
        "\n",
        "# TODO: Save disk usage of the current directory to disk_report.txt\n",
        "\n",
        "# TODO: Add the current timestamp to the report\n",
        "\n",
        "# TODO: Create a compressed backup of the mydir directory\n",
        "# Hint: Use 'tar'\n",
        "\n",
        "# TODO: Count the number of files in the archive\n",
        "# Hint: Use 'tar -tf'\n",
        "file_count=$()\n",
        "echo \"Archived $file_count files.\"\n",
        "\n",
        "# TODO: Show the size of the backup archive\n",
        "# Hint: Use 'du' to get the size\n",
        "# Hint: Use 'cut -f1' to get the size value only\n",
        "backup_size=$()\n",
        "echo \"Backup size: $backup_size\"\n",
        "BASH\n",
        "\n",
        "chmod +x disk_backup.sh\n",
        "./disk_backup.sh\n"
      ],
      "metadata": {
        "id": "mHbWEBuAOV2a"
      },
      "execution_count": null,
      "outputs": []
    },
    {
      "cell_type": "markdown",
      "source": [
        "**Expected Output Example for Problem 2**\n",
        "\n",
        "When your script is working correctly, the output should look like this:\n",
        "```\n",
        "Archived 6 files.\n",
        "Backup size: 4.0K\n",
        "```\n",
        "\n",
        "Make sure your script prints **exactly this format**, as I may check for exact wording and spacing.\n"
      ],
      "metadata": {
        "id": "d7D5z6qLQVaN"
      }
    },
    {
      "cell_type": "markdown",
      "source": [
        "### Problem 3: Argument Math\n",
        "Write a script called `math_ops.sh` that:\n",
        "1. Accepts a list of **integer numbers** as command-line arguments.\n",
        "2. If no arguments are provided, print a usage message and exit.\n",
        "3. If arguments are given:\n",
        "  - Print each argument on a new line\n",
        "  - Compute the sum of all arguments\n",
        "  - Compute the average, round to 2 decimal places using `bc`"
      ],
      "metadata": {
        "id": "mF10oWNRSZLO"
      }
    },
    {
      "cell_type": "code",
      "source": [
        "%%bash\n",
        "\n",
        "cat << 'BASH' > math_ops.sh\n",
        "#!/bin/bash\n",
        "\n",
        "# TODO: Check if at least one argument is provided\n",
        "# If not, print: \"Usage: ./math_ops.sh num1 num2 ...\"\n",
        "\n",
        "\n",
        "sum=0\n",
        "\n",
        "# TODO: Loop through each argument and print it\n",
        "# Also compute the sum\n",
        "\n",
        "# TODO: Calculate the average using bc\n",
        "# Hint: Use echo \"scale=2; sum / count\" | bc\n",
        "\n",
        "# TODO: Print sum and average\n",
        "\n",
        "\n",
        "BASH\n",
        "\n",
        "chmod +x math_ops.sh\n",
        "# Test run with some numbers\n",
        "./math_ops.sh 3 7 10\n"
      ],
      "metadata": {
        "id": "pFo40us4PNYq"
      },
      "execution_count": null,
      "outputs": []
    },
    {
      "cell_type": "markdown",
      "source": [
        "**Expected Output Example for Problem 3**\n",
        "\n",
        "When your script is working correctly, the output should look like this:\n",
        "\n",
        "```\n",
        "Argument: 3\n",
        "Argument: 7\n",
        "Argument: 10\n",
        "Sum: 20\n",
        "Average: 6.66\n",
        "```\n",
        "\n",
        "Make sure your script prints **exactly this format**, as I may check for exact wording and spacing.\n"
      ],
      "metadata": {
        "id": "I-7BdEYaTq5x"
      }
    },
    {
      "cell_type": "markdown",
      "source": [
        "### Problem 4: Log Analyzer (with `getopts`)\n",
        "\n",
        "Write a script called `log_analyzer.sh` that processes a log file with command-line options. It should support the following flags:\n",
        "| Option | Description                                |\n",
        "| ------ | ------------------------------------------ |\n",
        "| `-f`   | Path to the log file (required)            |\n",
        "| `-e`   | Count how many lines contain “error”       |\n",
        "| `-i`   | Print a list of unique IP addresses found after the word \"from\" |\n",
        "\n",
        "\n",
        "#### Mini Intro: `sort` and `uniq -c`\n",
        "1. Suppose we have a list of IPs (some repeated), try this in a Bash cell:\n",
        "    ```\n",
        "    echo -e \"192.168.0.1\\n10.0.0.3\\n192.168.0.2\\n10.0.0.3\\n192.168.0.2\" | sort\n",
        "    ```\n",
        "    This sorts the lines alphabetically.\n",
        "\n",
        "\n",
        "2. Now, let's count how many times each IP appears\n",
        "    ```\n",
        "    echo -e \"192.168.0.1\\n10.0.0.3\\n192.168.0.2\\n10.0.0.3\\n192.168.0.2\" | sort | uniq -c\n",
        "    ```\n",
        "    `uniq -c` gives a count of repeated lines, but it only works if the lines are already sorted.\n",
        "\n",
        "3. Let's go one step further — sort by count (highest first)\n",
        "    ```\n",
        "    echo -e \"192.168.0.1\\n10.0.0.3\\n192.168.0.2\\n10.0.0.3\\n192.168.0.2\" | sort | uniq -c | sort -nr\n",
        "    ```\n",
        "    `sort -nr` means:\n",
        "      - `-n`: sort by number\n",
        "      - `-r`: reverse (so highest comes first)"
      ],
      "metadata": {
        "id": "0jer9TMsUOcR"
      }
    },
    {
      "cell_type": "markdown",
      "source": [
        "Let's fake some data to start"
      ],
      "metadata": {
        "id": "QOl0412sVF_k"
      }
    },
    {
      "cell_type": "code",
      "execution_count": null,
      "metadata": {
        "id": "1bw5-EJU-DDX"
      },
      "outputs": [],
      "source": [
        "# Simulate sample.log\n",
        "%%bash\n",
        "cat << 'EOF' > sample.log\n",
        "[2025-09-25 10:00] INFO Connection from 192.168.0.1\n",
        "[2025-09-25 10:01] ERROR Failed to open file\n",
        "[2025-09-25 10:02] WARNING Retry attempt\n",
        "[2025-09-25 10:03] ERROR Timeout from 10.0.0.3\n",
        "[2025-09-25 10:04] INFO Connection from 192.168.0.2\n",
        "[2025-09-25 10:05] ERROR Disk full from 10.0.0.3\n",
        "[2025-09-25 10:06] INFO Connection from 192.168.0.2\n",
        "EOF"
      ]
    },
    {
      "cell_type": "code",
      "source": [
        "%%bash\n",
        "cat << 'BASH' > log_analyzer.sh\n",
        "#!/bin/bash\n",
        "# Initialize flags\n",
        "show_errors=false\n",
        "show_ips=false\n",
        "\n",
        "# TODO: Use getopts to handle -f (file), -e (error count), -i (top IPs)\n",
        "# Hint: f requires an argument; e and i are flags\n",
        "\n",
        "\n",
        "# TODO: Check if logfile variable is set\n",
        "# Hint: Use -z to check if the variable is actually set.\n",
        "\n",
        "# TODO: Check if file exists\n",
        "\n",
        "# TODO: If -e is set, count lines with 'error' (case-insensitive)\n",
        "\n",
        "# TODO: If -i is set, extract IPs that appear after the word 'from'\n",
        "# Hint: Use grep\n",
        "# Hint: in awk, $NF means the last field on the line\n",
        "# Hint: Use sort + uniq -c to count duplicates\n",
        "\n",
        "BASH\n",
        "\n",
        "chmod +x log_analyzer.sh\n",
        "# Test run\n",
        "./log_analyzer.sh -f sample.log -e -i\n"
      ],
      "metadata": {
        "id": "j3xpNfuxTh-m"
      },
      "execution_count": null,
      "outputs": []
    },
    {
      "cell_type": "markdown",
      "source": [
        "**Expected Output Example for Problem 4**\n",
        "\n",
        "When your script is working correctly, the output should look like this:\n",
        "\n",
        "```\n",
        "Error lines: 3\n",
        "IP addresses:\n",
        "      2 192.168.0.2\n",
        "      2 10.0.0.3\n",
        "      1 192.168.0.1\n",
        "```\n",
        "Make sure your script prints **exactly this format**, as I may check for exact wording and spacing.\n"
      ],
      "metadata": {
        "id": "B9TvKIwSbfvZ"
      }
    },
    {
      "cell_type": "markdown",
      "source": [
        "---\n",
        "\n",
        "### AI Usage Declaration (REQUIRED)\n",
        "\n",
        "Please **check the box** that best describes your use of AI tools (e.g., ChatGPT, GitHub Copilot, Google Gemini, etc.) during this lab.  \n",
        "There is no penalty for using AI, but you must be honest and take full responsibility for understanding your code.\n",
        "\n",
        "☐ I did **not** use any AI assistance for this lab.\n",
        "\n",
        "☐ I used AI for **minor guidance only** (e.g., fixing syntax errors, clarifying commands).\n",
        "\n",
        "☐ I used AI for **larger portions** of the code (e.g., writing full functions or scripts), but I made sure I fully understand it.\n",
        "\n",
        "☐ I relied heavily on AI and **do not fully understand** all parts of the code I submitted.\n",
        "\n",
        "*(You may be asked to explain your answers or your code in person.)*\n"
      ],
      "metadata": {
        "id": "uVkozGCIeg_x"
      }
    },
    {
      "cell_type": "code",
      "source": [],
      "metadata": {
        "id": "sUwQB12sbeDQ"
      },
      "execution_count": null,
      "outputs": []
    }
  ]
}