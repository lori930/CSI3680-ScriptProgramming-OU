{
  "cells": [
    {
      "cell_type": "markdown",
      "metadata": {},
      "source": [
        "### Test backing up directories (`archivedir.sh``)"
      ]
    },
    {
      "cell_type": "code",
      "execution_count": null,
      "metadata": {
        "id": "iU4J8XTROzZy"
      },
      "outputs": [],
      "source": [
        "%%bash\n",
        "# Bash “strict mode”: exit on error (-e), error on unset vars (-u), and fail pipelines if any command fails (-o pipefail)\n",
        "set -euo pipefail\n",
        "mkdir -p /content/demo/sub\n",
        "echo \"alpha\" > /content/demo/sub/a.txt\n",
        "echo \"bravo\" > /content/demo/sub/b.txt"
      ]
    },
    {
      "cell_type": "code",
      "execution_count": null,
      "metadata": {
        "id": "axVMsH8lO859"
      },
      "outputs": [],
      "source": [
        "!chmod +x /content/archivedir.sh"
      ]
    },
    {
      "cell_type": "code",
      "execution_count": null,
      "metadata": {
        "colab": {
          "base_uri": "https://localhost:8080/"
        },
        "id": "D296CvsvNUHo",
        "outputId": "d66b8976-589c-4dc1-cbc0-39f523d0f8ad"
      },
      "outputs": [],
      "source": [
        "%%bash\n",
        "cd demo/\n",
        "../archivedir.sh sub"
      ]
    },
    {
      "cell_type": "code",
      "execution_count": null,
      "metadata": {
        "colab": {
          "base_uri": "https://localhost:8080/"
        },
        "id": "NNe-plqAPGkh",
        "outputId": "05404280-7d39-4fb6-f726-60e4faf944ff"
      },
      "outputs": [],
      "source": [
        "%%bash\n",
        "cd /content/demo\n",
        "# %%bash cells are non-interactive (no TTY), so we pipe the answer\n",
        "printf 'y\\n' | ../archivedir.sh sub\n",
        "ls -lh sub.tgz\n",
        "tar -tzf sub.tgz | sed -n '1,20p' # limit the verbose tar -tzf … output (line 1-20)"
      ]
    },
    {
      "cell_type": "code",
      "execution_count": null,
      "metadata": {
        "colab": {
          "base_uri": "https://localhost:8080/"
        },
        "id": "Ge3YugCTReHC",
        "outputId": "2f81f285-d4c8-4d69-fe18-5b30a4e52fd1"
      },
      "outputs": [],
      "source": [
        "!ls -lh /content/demo"
      ]
    },
    {
      "cell_type": "code",
      "execution_count": null,
      "metadata": {
        "colab": {
          "base_uri": "https://localhost:8080/"
        },
        "id": "3GGZqAPBPOuK",
        "outputId": "852e7bc8-6255-4a2d-a52a-7beba4daf167"
      },
      "outputs": [],
      "source": [
        "%%bash\n",
        "set -euo pipefail\n",
        "cd /content/demo\n",
        "for i in $(seq 1 2000); do echo \"$i\" > \"sub/f$i.txt\"; done\n",
        "printf 'y\\n' | ../archivedir.sh sub  # you should see the size prompt now"
      ]
    },
    {
      "cell_type": "code",
      "execution_count": null,
      "metadata": {
        "id": "Hq7dQCpORXNj"
      },
      "outputs": [],
      "source": []
    },
    {
      "cell_type": "markdown",
      "metadata": {},
      "source": [
        "### Test backing up the system (`backup.sh`)"
      ]
    },
    {
      "cell_type": "code",
      "execution_count": null,
      "metadata": {
        "colab": {
          "base_uri": "https://localhost:8080/"
        },
        "id": "5-kjdSPswOkw",
        "outputId": "8450878f-c4be-4ce0-df3f-4ecfbfe3588d"
      },
      "outputs": [],
      "source": [
        "%%bash\n",
        "apt-get update -y\n",
        "apt-get install -y pax\n"
      ]
    },
    {
      "cell_type": "code",
      "execution_count": null,
      "metadata": {
        "colab": {
          "background_save": true
        },
        "id": "ebHHJztcbFbQ",
        "outputId": "289373f7-7cbe-4ca2-8464-18de76502c9a"
      },
      "outputs": [],
      "source": [
        "%%bash\n",
        "set -euo pipefail\n",
        "export USER=\"${USER:-$(whoami)}\"\n",
        "export LOGNAME=\"${LOGNAME:-$USER}\"\n",
        "\n",
        "# 1) Prep a small sandbox in HOME\n",
        "mkdir -p \"$HOME/demo2\"\n",
        "echo alpha > \"$HOME/demo2/a.txt\"\n",
        "echo bravo > \"$HOME/demo2/b.txt\"\n",
        "\n",
        "# 2) Run the script\n",
        "chmod +x /content/backup.sh\n",
        "\n",
        "# 3) Full backup (will also update the timestamp after success)\n",
        "/content/backup.sh -f   # run\n",
        "ls -lh /tmp/backup.*.bz2 | tail -1\n",
        "\n",
        "# 4) Change a file, then incremental\n",
        "echo updated >> \"$HOME/demo2/a.txt\"\n",
        "/content/backup.sh -i\n",
        "ls -lh /tmp/backup.*.bz2 | tail -2"
      ]
    },
    {
      "cell_type": "code",
      "execution_count": null,
      "metadata": {
        "colab": {
          "base_uri": "https://localhost:8080/"
        },
        "id": "K-IkPOuAbbSo",
        "outputId": "701883ea-df11-41c6-b392-d910253fdb8b"
      },
      "outputs": [],
      "source": [
        "!cat /content/backup.sh"
      ]
    },
    {
      "cell_type": "code",
      "execution_count": null,
      "metadata": {
        "id": "vGp13nEc2MBx"
      },
      "outputs": [],
      "source": []
    }
  ],
  "metadata": {
    "colab": {
      "provenance": []
    },
    "kernelspec": {
      "display_name": "Python 3",
      "name": "python3"
    },
    "language_info": {
      "name": "python"
    }
  },
  "nbformat": 4,
  "nbformat_minor": 0
}
